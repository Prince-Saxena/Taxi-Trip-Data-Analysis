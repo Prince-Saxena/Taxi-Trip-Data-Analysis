{
 "cells": [
  {
   "cell_type": "code",
   "execution_count": 50,
   "id": "d4cde336-e0cc-494c-b46f-46f5684cba58",
   "metadata": {
    "execution": {
     "iopub.execute_input": "2025-07-13T12:17:35.902766Z",
     "iopub.status.busy": "2025-07-13T12:17:35.902766Z",
     "iopub.status.idle": "2025-07-13T12:17:36.145755Z",
     "shell.execute_reply": "2025-07-13T12:17:36.142051Z",
     "shell.execute_reply.started": "2025-07-13T12:17:35.902766Z"
    }
   },
   "outputs": [],
   "source": [
    "import pandas as pd\n",
    "import warnings\n",
    "import matplotlib.pyplot as plt\n",
    "import seaborn as sns\n",
    "import scipy.stats as st\n",
    "from statsmodels.graphics.gofplots import qqplot\n",
    "\n",
    "\n",
    "warnings.filterwarnings('ignore')"
   ]
  },
  {
   "cell_type": "code",
   "execution_count": 2,
   "id": "d1445f8a-88be-4814-90f2-0ddbb8dd4d66",
   "metadata": {
    "execution": {
     "iopub.execute_input": "2025-07-13T11:41:44.681711Z",
     "iopub.status.busy": "2025-07-13T11:41:44.680708Z",
     "iopub.status.idle": "2025-07-13T11:42:00.659323Z",
     "shell.execute_reply": "2025-07-13T11:42:00.653781Z",
     "shell.execute_reply.started": "2025-07-13T11:41:44.681711Z"
    }
   },
   "outputs": [
    {
     "data": {
      "text/html": [
       "<div>\n",
       "<style scoped>\n",
       "    .dataframe tbody tr th:only-of-type {\n",
       "        vertical-align: middle;\n",
       "    }\n",
       "\n",
       "    .dataframe tbody tr th {\n",
       "        vertical-align: top;\n",
       "    }\n",
       "\n",
       "    .dataframe thead th {\n",
       "        text-align: right;\n",
       "    }\n",
       "</style>\n",
       "<table border=\"1\" class=\"dataframe\">\n",
       "  <thead>\n",
       "    <tr style=\"text-align: right;\">\n",
       "      <th></th>\n",
       "      <th>passenger_count</th>\n",
       "      <th>trip_distance</th>\n",
       "      <th>payment_type</th>\n",
       "      <th>fare_amount</th>\n",
       "      <th>trip_duration</th>\n",
       "    </tr>\n",
       "  </thead>\n",
       "  <tbody>\n",
       "    <tr>\n",
       "      <th>0</th>\n",
       "      <td>1</td>\n",
       "      <td>1.59</td>\n",
       "      <td>1</td>\n",
       "      <td>12.0</td>\n",
       "      <td>18.050000</td>\n",
       "    </tr>\n",
       "    <tr>\n",
       "      <th>1</th>\n",
       "      <td>1</td>\n",
       "      <td>3.30</td>\n",
       "      <td>1</td>\n",
       "      <td>14.5</td>\n",
       "      <td>19.833333</td>\n",
       "    </tr>\n",
       "    <tr>\n",
       "      <th>2</th>\n",
       "      <td>1</td>\n",
       "      <td>1.80</td>\n",
       "      <td>2</td>\n",
       "      <td>9.5</td>\n",
       "      <td>10.050000</td>\n",
       "    </tr>\n",
       "    <tr>\n",
       "      <th>3</th>\n",
       "      <td>1</td>\n",
       "      <td>0.50</td>\n",
       "      <td>2</td>\n",
       "      <td>3.5</td>\n",
       "      <td>1.866667</td>\n",
       "    </tr>\n",
       "    <tr>\n",
       "      <th>4</th>\n",
       "      <td>1</td>\n",
       "      <td>3.00</td>\n",
       "      <td>2</td>\n",
       "      <td>15.0</td>\n",
       "      <td>19.316667</td>\n",
       "    </tr>\n",
       "    <tr>\n",
       "      <th>...</th>\n",
       "      <td>...</td>\n",
       "      <td>...</td>\n",
       "      <td>...</td>\n",
       "      <td>...</td>\n",
       "      <td>...</td>\n",
       "    </tr>\n",
       "    <tr>\n",
       "      <th>12748455</th>\n",
       "      <td>2</td>\n",
       "      <td>1.00</td>\n",
       "      <td>1</td>\n",
       "      <td>5.5</td>\n",
       "      <td>3.933333</td>\n",
       "    </tr>\n",
       "    <tr>\n",
       "      <th>12748456</th>\n",
       "      <td>2</td>\n",
       "      <td>0.80</td>\n",
       "      <td>1</td>\n",
       "      <td>6.0</td>\n",
       "      <td>5.700000</td>\n",
       "    </tr>\n",
       "    <tr>\n",
       "      <th>12748457</th>\n",
       "      <td>1</td>\n",
       "      <td>3.40</td>\n",
       "      <td>2</td>\n",
       "      <td>13.5</td>\n",
       "      <td>13.283333</td>\n",
       "    </tr>\n",
       "    <tr>\n",
       "      <th>12748458</th>\n",
       "      <td>1</td>\n",
       "      <td>1.30</td>\n",
       "      <td>1</td>\n",
       "      <td>10.5</td>\n",
       "      <td>15.316667</td>\n",
       "    </tr>\n",
       "    <tr>\n",
       "      <th>12748459</th>\n",
       "      <td>1</td>\n",
       "      <td>0.70</td>\n",
       "      <td>2</td>\n",
       "      <td>5.5</td>\n",
       "      <td>5.800000</td>\n",
       "    </tr>\n",
       "  </tbody>\n",
       "</table>\n",
       "<p>12748460 rows × 5 columns</p>\n",
       "</div>"
      ],
      "text/plain": [
       "          passenger_count  trip_distance  payment_type  fare_amount  \\\n",
       "0                       1           1.59             1         12.0   \n",
       "1                       1           3.30             1         14.5   \n",
       "2                       1           1.80             2          9.5   \n",
       "3                       1           0.50             2          3.5   \n",
       "4                       1           3.00             2         15.0   \n",
       "...                   ...            ...           ...          ...   \n",
       "12748455                2           1.00             1          5.5   \n",
       "12748456                2           0.80             1          6.0   \n",
       "12748457                1           3.40             2         13.5   \n",
       "12748458                1           1.30             1         10.5   \n",
       "12748459                1           0.70             2          5.5   \n",
       "\n",
       "          trip_duration  \n",
       "0             18.050000  \n",
       "1             19.833333  \n",
       "2             10.050000  \n",
       "3              1.866667  \n",
       "4             19.316667  \n",
       "...                 ...  \n",
       "12748455       3.933333  \n",
       "12748456       5.700000  \n",
       "12748457      13.283333  \n",
       "12748458      15.316667  \n",
       "12748459       5.800000  \n",
       "\n",
       "[12748460 rows x 5 columns]"
      ]
     },
     "execution_count": 2,
     "metadata": {},
     "output_type": "execute_result"
    }
   ],
   "source": [
    "df = pd.read_csv('file.csv', index_col=None)\n",
    "df"
   ]
  },
  {
   "cell_type": "code",
   "execution_count": 3,
   "id": "cc288784-6a84-42ab-a6b1-4002e32218b0",
   "metadata": {
    "execution": {
     "iopub.execute_input": "2025-07-13T11:42:00.666365Z",
     "iopub.status.busy": "2025-07-13T11:42:00.664364Z",
     "iopub.status.idle": "2025-07-13T11:42:06.575305Z",
     "shell.execute_reply": "2025-07-13T11:42:06.573291Z",
     "shell.execute_reply.started": "2025-07-13T11:42:00.666365Z"
    }
   },
   "outputs": [
    {
     "data": {
      "text/html": [
       "<div>\n",
       "<style scoped>\n",
       "    .dataframe tbody tr th:only-of-type {\n",
       "        vertical-align: middle;\n",
       "    }\n",
       "\n",
       "    .dataframe tbody tr th {\n",
       "        vertical-align: top;\n",
       "    }\n",
       "\n",
       "    .dataframe thead th {\n",
       "        text-align: right;\n",
       "    }\n",
       "</style>\n",
       "<table border=\"1\" class=\"dataframe\">\n",
       "  <thead>\n",
       "    <tr style=\"text-align: right;\">\n",
       "      <th></th>\n",
       "      <th>passenger_count</th>\n",
       "      <th>trip_distance</th>\n",
       "      <th>payment_type</th>\n",
       "      <th>fare_amount</th>\n",
       "      <th>trip_duration</th>\n",
       "    </tr>\n",
       "  </thead>\n",
       "  <tbody>\n",
       "    <tr>\n",
       "      <th>count</th>\n",
       "      <td>1.274846e+07</td>\n",
       "      <td>1.274846e+07</td>\n",
       "      <td>1.274846e+07</td>\n",
       "      <td>1.274846e+07</td>\n",
       "      <td>1.274846e+07</td>\n",
       "    </tr>\n",
       "    <tr>\n",
       "      <th>mean</th>\n",
       "      <td>1.681517e+00</td>\n",
       "      <td>1.345967e+01</td>\n",
       "      <td>1.386693e+00</td>\n",
       "      <td>1.190601e+01</td>\n",
       "      <td>1.417949e+01</td>\n",
       "    </tr>\n",
       "    <tr>\n",
       "      <th>std</th>\n",
       "      <td>1.337944e+00</td>\n",
       "      <td>9.844297e+03</td>\n",
       "      <td>4.988574e-01</td>\n",
       "      <td>1.030259e+01</td>\n",
       "      <td>6.493145e+02</td>\n",
       "    </tr>\n",
       "    <tr>\n",
       "      <th>min</th>\n",
       "      <td>0.000000e+00</td>\n",
       "      <td>0.000000e+00</td>\n",
       "      <td>1.000000e+00</td>\n",
       "      <td>-4.500000e+02</td>\n",
       "      <td>-1.211017e+03</td>\n",
       "    </tr>\n",
       "    <tr>\n",
       "      <th>25%</th>\n",
       "      <td>1.000000e+00</td>\n",
       "      <td>1.000000e+00</td>\n",
       "      <td>1.000000e+00</td>\n",
       "      <td>6.500000e+00</td>\n",
       "      <td>6.100000e+00</td>\n",
       "    </tr>\n",
       "    <tr>\n",
       "      <th>50%</th>\n",
       "      <td>1.000000e+00</td>\n",
       "      <td>1.680000e+00</td>\n",
       "      <td>1.000000e+00</td>\n",
       "      <td>9.000000e+00</td>\n",
       "      <td>9.950000e+00</td>\n",
       "    </tr>\n",
       "    <tr>\n",
       "      <th>75%</th>\n",
       "      <td>2.000000e+00</td>\n",
       "      <td>3.000000e+00</td>\n",
       "      <td>2.000000e+00</td>\n",
       "      <td>1.350000e+01</td>\n",
       "      <td>1.578333e+01</td>\n",
       "    </tr>\n",
       "    <tr>\n",
       "      <th>max</th>\n",
       "      <td>9.000000e+00</td>\n",
       "      <td>1.542000e+07</td>\n",
       "      <td>5.000000e+00</td>\n",
       "      <td>4.008000e+03</td>\n",
       "      <td>5.485556e+05</td>\n",
       "    </tr>\n",
       "  </tbody>\n",
       "</table>\n",
       "</div>"
      ],
      "text/plain": [
       "       passenger_count  trip_distance  payment_type   fare_amount  \\\n",
       "count     1.274846e+07   1.274846e+07  1.274846e+07  1.274846e+07   \n",
       "mean      1.681517e+00   1.345967e+01  1.386693e+00  1.190601e+01   \n",
       "std       1.337944e+00   9.844297e+03  4.988574e-01  1.030259e+01   \n",
       "min       0.000000e+00   0.000000e+00  1.000000e+00 -4.500000e+02   \n",
       "25%       1.000000e+00   1.000000e+00  1.000000e+00  6.500000e+00   \n",
       "50%       1.000000e+00   1.680000e+00  1.000000e+00  9.000000e+00   \n",
       "75%       2.000000e+00   3.000000e+00  2.000000e+00  1.350000e+01   \n",
       "max       9.000000e+00   1.542000e+07  5.000000e+00  4.008000e+03   \n",
       "\n",
       "       trip_duration  \n",
       "count   1.274846e+07  \n",
       "mean    1.417949e+01  \n",
       "std     6.493145e+02  \n",
       "min    -1.211017e+03  \n",
       "25%     6.100000e+00  \n",
       "50%     9.950000e+00  \n",
       "75%     1.578333e+01  \n",
       "max     5.485556e+05  "
      ]
     },
     "execution_count": 3,
     "metadata": {},
     "output_type": "execute_result"
    }
   ],
   "source": [
    "df.describe()"
   ]
  },
  {
   "cell_type": "code",
   "execution_count": 4,
   "id": "5799cef7-ef35-45f0-ba98-546565448ee9",
   "metadata": {
    "execution": {
     "iopub.execute_input": "2025-07-13T11:42:06.579842Z",
     "iopub.status.busy": "2025-07-13T11:42:06.578825Z",
     "iopub.status.idle": "2025-07-13T11:42:06.621947Z",
     "shell.execute_reply": "2025-07-13T11:42:06.619933Z",
     "shell.execute_reply.started": "2025-07-13T11:42:06.579842Z"
    }
   },
   "outputs": [
    {
     "name": "stdout",
     "output_type": "stream",
     "text": [
      "<class 'pandas.core.frame.DataFrame'>\n",
      "RangeIndex: 12748460 entries, 0 to 12748459\n",
      "Data columns (total 5 columns):\n",
      " #   Column           Dtype  \n",
      "---  ------           -----  \n",
      " 0   passenger_count  int64  \n",
      " 1   trip_distance    float64\n",
      " 2   payment_type     int64  \n",
      " 3   fare_amount      float64\n",
      " 4   trip_duration    float64\n",
      "dtypes: float64(3), int64(2)\n",
      "memory usage: 486.3 MB\n"
     ]
    }
   ],
   "source": [
    "df.info()"
   ]
  },
  {
   "cell_type": "code",
   "execution_count": 5,
   "id": "1a952689-532f-44f7-9197-5acc8e5fb6fb",
   "metadata": {
    "execution": {
     "iopub.execute_input": "2025-07-13T11:42:06.629640Z",
     "iopub.status.busy": "2025-07-13T11:42:06.628625Z",
     "iopub.status.idle": "2025-07-13T11:42:07.484565Z",
     "shell.execute_reply": "2025-07-13T11:42:07.482552Z",
     "shell.execute_reply.started": "2025-07-13T11:42:06.629640Z"
    }
   },
   "outputs": [],
   "source": [
    "df = df[(df['fare_amount'] > 0) & (df['trip_duration'] > 0)]"
   ]
  },
  {
   "cell_type": "code",
   "execution_count": 6,
   "id": "03b8cb3a-5fbf-4d45-a9e3-b2679669c621",
   "metadata": {
    "execution": {
     "iopub.execute_input": "2025-07-13T11:42:07.490127Z",
     "iopub.status.busy": "2025-07-13T11:42:07.488570Z",
     "iopub.status.idle": "2025-07-13T11:42:12.878772Z",
     "shell.execute_reply": "2025-07-13T11:42:12.877763Z",
     "shell.execute_reply.started": "2025-07-13T11:42:07.490127Z"
    }
   },
   "outputs": [
    {
     "data": {
      "text/html": [
       "<div>\n",
       "<style scoped>\n",
       "    .dataframe tbody tr th:only-of-type {\n",
       "        vertical-align: middle;\n",
       "    }\n",
       "\n",
       "    .dataframe tbody tr th {\n",
       "        vertical-align: top;\n",
       "    }\n",
       "\n",
       "    .dataframe thead th {\n",
       "        text-align: right;\n",
       "    }\n",
       "</style>\n",
       "<table border=\"1\" class=\"dataframe\">\n",
       "  <thead>\n",
       "    <tr style=\"text-align: right;\">\n",
       "      <th></th>\n",
       "      <th>passenger_count</th>\n",
       "      <th>trip_distance</th>\n",
       "      <th>payment_type</th>\n",
       "      <th>fare_amount</th>\n",
       "      <th>trip_duration</th>\n",
       "    </tr>\n",
       "  </thead>\n",
       "  <tbody>\n",
       "    <tr>\n",
       "      <th>count</th>\n",
       "      <td>1.272614e+07</td>\n",
       "      <td>1.272614e+07</td>\n",
       "      <td>1.272614e+07</td>\n",
       "      <td>1.272614e+07</td>\n",
       "      <td>1.272614e+07</td>\n",
       "    </tr>\n",
       "    <tr>\n",
       "      <th>mean</th>\n",
       "      <td>1.681971e+00</td>\n",
       "      <td>1.348132e+01</td>\n",
       "      <td>1.385255e+00</td>\n",
       "      <td>1.191217e+01</td>\n",
       "      <td>1.419990e+01</td>\n",
       "    </tr>\n",
       "    <tr>\n",
       "      <th>std</th>\n",
       "      <td>1.338432e+00</td>\n",
       "      <td>9.852927e+03</td>\n",
       "      <td>4.971891e-01</td>\n",
       "      <td>1.019066e+01</td>\n",
       "      <td>6.498821e+02</td>\n",
       "    </tr>\n",
       "    <tr>\n",
       "      <th>min</th>\n",
       "      <td>0.000000e+00</td>\n",
       "      <td>0.000000e+00</td>\n",
       "      <td>1.000000e+00</td>\n",
       "      <td>1.000000e-02</td>\n",
       "      <td>1.666667e-02</td>\n",
       "    </tr>\n",
       "    <tr>\n",
       "      <th>25%</th>\n",
       "      <td>1.000000e+00</td>\n",
       "      <td>1.000000e+00</td>\n",
       "      <td>1.000000e+00</td>\n",
       "      <td>6.500000e+00</td>\n",
       "      <td>6.116667e+00</td>\n",
       "    </tr>\n",
       "    <tr>\n",
       "      <th>50%</th>\n",
       "      <td>1.000000e+00</td>\n",
       "      <td>1.680000e+00</td>\n",
       "      <td>1.000000e+00</td>\n",
       "      <td>9.000000e+00</td>\n",
       "      <td>9.966667e+00</td>\n",
       "    </tr>\n",
       "    <tr>\n",
       "      <th>75%</th>\n",
       "      <td>2.000000e+00</td>\n",
       "      <td>3.000000e+00</td>\n",
       "      <td>2.000000e+00</td>\n",
       "      <td>1.350000e+01</td>\n",
       "      <td>1.580000e+01</td>\n",
       "    </tr>\n",
       "    <tr>\n",
       "      <th>max</th>\n",
       "      <td>9.000000e+00</td>\n",
       "      <td>1.542000e+07</td>\n",
       "      <td>5.000000e+00</td>\n",
       "      <td>4.008000e+03</td>\n",
       "      <td>5.485556e+05</td>\n",
       "    </tr>\n",
       "  </tbody>\n",
       "</table>\n",
       "</div>"
      ],
      "text/plain": [
       "       passenger_count  trip_distance  payment_type   fare_amount  \\\n",
       "count     1.272614e+07   1.272614e+07  1.272614e+07  1.272614e+07   \n",
       "mean      1.681971e+00   1.348132e+01  1.385255e+00  1.191217e+01   \n",
       "std       1.338432e+00   9.852927e+03  4.971891e-01  1.019066e+01   \n",
       "min       0.000000e+00   0.000000e+00  1.000000e+00  1.000000e-02   \n",
       "25%       1.000000e+00   1.000000e+00  1.000000e+00  6.500000e+00   \n",
       "50%       1.000000e+00   1.680000e+00  1.000000e+00  9.000000e+00   \n",
       "75%       2.000000e+00   3.000000e+00  2.000000e+00  1.350000e+01   \n",
       "max       9.000000e+00   1.542000e+07  5.000000e+00  4.008000e+03   \n",
       "\n",
       "       trip_duration  \n",
       "count   1.272614e+07  \n",
       "mean    1.419990e+01  \n",
       "std     6.498821e+02  \n",
       "min     1.666667e-02  \n",
       "25%     6.116667e+00  \n",
       "50%     9.966667e+00  \n",
       "75%     1.580000e+01  \n",
       "max     5.485556e+05  "
      ]
     },
     "execution_count": 6,
     "metadata": {},
     "output_type": "execute_result"
    }
   ],
   "source": [
    "df.describe()"
   ]
  },
  {
   "cell_type": "code",
   "execution_count": 7,
   "id": "8bcc2e2b-46f6-438b-8576-aa71953bf1ee",
   "metadata": {
    "execution": {
     "iopub.execute_input": "2025-07-13T11:42:12.882166Z",
     "iopub.status.busy": "2025-07-13T11:42:12.881173Z",
     "iopub.status.idle": "2025-07-13T11:42:13.192869Z",
     "shell.execute_reply": "2025-07-13T11:42:13.190861Z",
     "shell.execute_reply.started": "2025-07-13T11:42:12.882166Z"
    }
   },
   "outputs": [
    {
     "data": {
      "text/plain": [
       "array([1, 2, 3, 4, 5], dtype=int64)"
      ]
     },
     "execution_count": 7,
     "metadata": {},
     "output_type": "execute_result"
    }
   ],
   "source": [
    "df['payment_type'].unique()"
   ]
  },
  {
   "cell_type": "code",
   "execution_count": 8,
   "id": "4e42c18a-bd6f-442c-9378-c5b71bc11854",
   "metadata": {
    "execution": {
     "iopub.execute_input": "2025-07-13T11:42:13.195873Z",
     "iopub.status.busy": "2025-07-13T11:42:13.195873Z",
     "iopub.status.idle": "2025-07-13T11:42:13.503840Z",
     "shell.execute_reply": "2025-07-13T11:42:13.501310Z",
     "shell.execute_reply.started": "2025-07-13T11:42:13.195873Z"
    }
   },
   "outputs": [
    {
     "data": {
      "text/plain": [
       "passenger_count    0\n",
       "trip_distance      0\n",
       "payment_type       0\n",
       "fare_amount        0\n",
       "trip_duration      0\n",
       "dtype: int64"
      ]
     },
     "execution_count": 8,
     "metadata": {},
     "output_type": "execute_result"
    }
   ],
   "source": [
    "df.isna().sum()"
   ]
  },
  {
   "cell_type": "code",
   "execution_count": 9,
   "id": "4b0d4b76-87c1-4ebd-8206-612a6809d2cd",
   "metadata": {
    "execution": {
     "iopub.execute_input": "2025-07-13T11:42:13.506843Z",
     "iopub.status.busy": "2025-07-13T11:42:13.505843Z",
     "iopub.status.idle": "2025-07-13T11:42:21.285874Z",
     "shell.execute_reply": "2025-07-13T11:42:21.283858Z",
     "shell.execute_reply.started": "2025-07-13T11:42:13.506843Z"
    }
   },
   "outputs": [
    {
     "data": {
      "text/html": [
       "<div>\n",
       "<style scoped>\n",
       "    .dataframe tbody tr th:only-of-type {\n",
       "        vertical-align: middle;\n",
       "    }\n",
       "\n",
       "    .dataframe tbody tr th {\n",
       "        vertical-align: top;\n",
       "    }\n",
       "\n",
       "    .dataframe thead th {\n",
       "        text-align: right;\n",
       "    }\n",
       "</style>\n",
       "<table border=\"1\" class=\"dataframe\">\n",
       "  <thead>\n",
       "    <tr style=\"text-align: right;\">\n",
       "      <th></th>\n",
       "      <th>passenger_count</th>\n",
       "      <th>trip_distance</th>\n",
       "      <th>payment_type</th>\n",
       "      <th>fare_amount</th>\n",
       "      <th>trip_duration</th>\n",
       "    </tr>\n",
       "  </thead>\n",
       "  <tbody>\n",
       "    <tr>\n",
       "      <th>413</th>\n",
       "      <td>1</td>\n",
       "      <td>0.8</td>\n",
       "      <td>1</td>\n",
       "      <td>6.5</td>\n",
       "      <td>7.950000</td>\n",
       "    </tr>\n",
       "    <tr>\n",
       "      <th>1277</th>\n",
       "      <td>1</td>\n",
       "      <td>1.1</td>\n",
       "      <td>1</td>\n",
       "      <td>7.0</td>\n",
       "      <td>8.416667</td>\n",
       "    </tr>\n",
       "    <tr>\n",
       "      <th>1559</th>\n",
       "      <td>1</td>\n",
       "      <td>1.4</td>\n",
       "      <td>1</td>\n",
       "      <td>8.0</td>\n",
       "      <td>9.800000</td>\n",
       "    </tr>\n",
       "    <tr>\n",
       "      <th>1860</th>\n",
       "      <td>1</td>\n",
       "      <td>1.1</td>\n",
       "      <td>1</td>\n",
       "      <td>5.5</td>\n",
       "      <td>3.850000</td>\n",
       "    </tr>\n",
       "    <tr>\n",
       "      <th>2009</th>\n",
       "      <td>1</td>\n",
       "      <td>0.6</td>\n",
       "      <td>2</td>\n",
       "      <td>4.0</td>\n",
       "      <td>2.516667</td>\n",
       "    </tr>\n",
       "    <tr>\n",
       "      <th>...</th>\n",
       "      <td>...</td>\n",
       "      <td>...</td>\n",
       "      <td>...</td>\n",
       "      <td>...</td>\n",
       "      <td>...</td>\n",
       "    </tr>\n",
       "    <tr>\n",
       "      <th>12748455</th>\n",
       "      <td>2</td>\n",
       "      <td>1.0</td>\n",
       "      <td>1</td>\n",
       "      <td>5.5</td>\n",
       "      <td>3.933333</td>\n",
       "    </tr>\n",
       "    <tr>\n",
       "      <th>12748456</th>\n",
       "      <td>2</td>\n",
       "      <td>0.8</td>\n",
       "      <td>1</td>\n",
       "      <td>6.0</td>\n",
       "      <td>5.700000</td>\n",
       "    </tr>\n",
       "    <tr>\n",
       "      <th>12748457</th>\n",
       "      <td>1</td>\n",
       "      <td>3.4</td>\n",
       "      <td>2</td>\n",
       "      <td>13.5</td>\n",
       "      <td>13.283333</td>\n",
       "    </tr>\n",
       "    <tr>\n",
       "      <th>12748458</th>\n",
       "      <td>1</td>\n",
       "      <td>1.3</td>\n",
       "      <td>1</td>\n",
       "      <td>10.5</td>\n",
       "      <td>15.316667</td>\n",
       "    </tr>\n",
       "    <tr>\n",
       "      <th>12748459</th>\n",
       "      <td>1</td>\n",
       "      <td>0.7</td>\n",
       "      <td>2</td>\n",
       "      <td>5.5</td>\n",
       "      <td>5.800000</td>\n",
       "    </tr>\n",
       "  </tbody>\n",
       "</table>\n",
       "<p>7915278 rows × 5 columns</p>\n",
       "</div>"
      ],
      "text/plain": [
       "          passenger_count  trip_distance  payment_type  fare_amount  \\\n",
       "413                     1            0.8             1          6.5   \n",
       "1277                    1            1.1             1          7.0   \n",
       "1559                    1            1.4             1          8.0   \n",
       "1860                    1            1.1             1          5.5   \n",
       "2009                    1            0.6             2          4.0   \n",
       "...                   ...            ...           ...          ...   \n",
       "12748455                2            1.0             1          5.5   \n",
       "12748456                2            0.8             1          6.0   \n",
       "12748457                1            3.4             2         13.5   \n",
       "12748458                1            1.3             1         10.5   \n",
       "12748459                1            0.7             2          5.5   \n",
       "\n",
       "          trip_duration  \n",
       "413            7.950000  \n",
       "1277           8.416667  \n",
       "1559           9.800000  \n",
       "1860           3.850000  \n",
       "2009           2.516667  \n",
       "...                 ...  \n",
       "12748455       3.933333  \n",
       "12748456       5.700000  \n",
       "12748457      13.283333  \n",
       "12748458      15.316667  \n",
       "12748459       5.800000  \n",
       "\n",
       "[7915278 rows x 5 columns]"
      ]
     },
     "execution_count": 9,
     "metadata": {},
     "output_type": "execute_result"
    }
   ],
   "source": [
    "df[df.duplicated()]"
   ]
  },
  {
   "cell_type": "code",
   "execution_count": 10,
   "id": "dd03d337-ea07-4976-b7a8-392dd22a458c",
   "metadata": {
    "execution": {
     "iopub.execute_input": "2025-07-13T11:42:21.288374Z",
     "iopub.status.busy": "2025-07-13T11:42:21.288374Z",
     "iopub.status.idle": "2025-07-13T11:42:29.250188Z",
     "shell.execute_reply": "2025-07-13T11:42:29.245112Z",
     "shell.execute_reply.started": "2025-07-13T11:42:21.288374Z"
    }
   },
   "outputs": [
    {
     "data": {
      "text/plain": [
       "62.19701042083542"
      ]
     },
     "execution_count": 10,
     "metadata": {},
     "output_type": "execute_result"
    }
   ],
   "source": [
    "(df[df.duplicated()].shape[0]/df.shape[0])*100"
   ]
  },
  {
   "cell_type": "code",
   "execution_count": 11,
   "id": "15cbec5b-487b-4624-826d-a9fa0e73b091",
   "metadata": {
    "execution": {
     "iopub.execute_input": "2025-07-13T11:42:29.255210Z",
     "iopub.status.busy": "2025-07-13T11:42:29.254208Z",
     "iopub.status.idle": "2025-07-13T11:42:39.417640Z",
     "shell.execute_reply": "2025-07-13T11:42:39.414515Z",
     "shell.execute_reply.started": "2025-07-13T11:42:29.255210Z"
    }
   },
   "outputs": [],
   "source": [
    "df.drop_duplicates(inplace=True)"
   ]
  },
  {
   "cell_type": "code",
   "execution_count": 12,
   "id": "dd7e514b-265d-4ab6-ac1d-fd3fd309a676",
   "metadata": {
    "execution": {
     "iopub.execute_input": "2025-07-13T11:42:39.421847Z",
     "iopub.status.busy": "2025-07-13T11:42:39.420827Z",
     "iopub.status.idle": "2025-07-13T11:42:39.434240Z",
     "shell.execute_reply": "2025-07-13T11:42:39.433229Z",
     "shell.execute_reply.started": "2025-07-13T11:42:39.420827Z"
    }
   },
   "outputs": [
    {
     "data": {
      "text/plain": [
       "(4810861, 5)"
      ]
     },
     "execution_count": 12,
     "metadata": {},
     "output_type": "execute_result"
    }
   ],
   "source": [
    "df.shape"
   ]
  },
  {
   "cell_type": "code",
   "execution_count": 13,
   "id": "e55a2819-044a-448b-b429-f1b5185a8d38",
   "metadata": {
    "execution": {
     "iopub.execute_input": "2025-07-13T11:42:39.438768Z",
     "iopub.status.busy": "2025-07-13T11:42:39.437248Z",
     "iopub.status.idle": "2025-07-13T11:42:39.606623Z",
     "shell.execute_reply": "2025-07-13T11:42:39.604607Z",
     "shell.execute_reply.started": "2025-07-13T11:42:39.438768Z"
    }
   },
   "outputs": [
    {
     "data": {
      "text/plain": [
       "passenger_count\n",
       "1    0.522319\n",
       "2    0.186286\n",
       "5    0.101893\n",
       "3    0.075178\n",
       "6    0.072316\n",
       "4    0.040728\n",
       "0    0.001273\n",
       "9    0.000002\n",
       "8    0.000002\n",
       "7    0.000002\n",
       "Name: proportion, dtype: float64"
      ]
     },
     "execution_count": 13,
     "metadata": {},
     "output_type": "execute_result"
    }
   ],
   "source": [
    "df.passenger_count.value_counts(normalize=True)"
   ]
  },
  {
   "cell_type": "code",
   "execution_count": 14,
   "id": "d6df1d82-6498-4b17-891c-2dbc2cd8cdde",
   "metadata": {
    "execution": {
     "iopub.execute_input": "2025-07-13T11:42:39.615710Z",
     "iopub.status.busy": "2025-07-13T11:42:39.614705Z",
     "iopub.status.idle": "2025-07-13T11:42:39.733747Z",
     "shell.execute_reply": "2025-07-13T11:42:39.732739Z",
     "shell.execute_reply.started": "2025-07-13T11:42:39.615710Z"
    }
   },
   "outputs": [
    {
     "data": {
      "text/plain": [
       "payment_type\n",
       "1    2904255\n",
       "2    1873828\n",
       "3      24536\n",
       "4       8241\n",
       "5          1\n",
       "Name: count, dtype: int64"
      ]
     },
     "execution_count": 14,
     "metadata": {},
     "output_type": "execute_result"
    }
   ],
   "source": [
    "df.payment_type.value_counts()"
   ]
  },
  {
   "cell_type": "code",
   "execution_count": 15,
   "id": "fc192c9d-088b-428a-820a-a34f9f64b68c",
   "metadata": {
    "execution": {
     "iopub.execute_input": "2025-07-13T11:42:39.736749Z",
     "iopub.status.busy": "2025-07-13T11:42:39.735748Z",
     "iopub.status.idle": "2025-07-13T11:42:40.211988Z",
     "shell.execute_reply": "2025-07-13T11:42:40.208951Z",
     "shell.execute_reply.started": "2025-07-13T11:42:39.736749Z"
    }
   },
   "outputs": [],
   "source": [
    "df = df[((df['payment_type'] < 3)\n",
    "         & (df['passenger_count'] < 6)\n",
    "         & (df['passenger_count'] > 0)\n",
    "         & (df['trip_distance'] > 0)\n",
    "        )]"
   ]
  },
  {
   "cell_type": "code",
   "execution_count": 16,
   "id": "a60a0c4b-03ea-40e4-aecc-3166df1e9ee6",
   "metadata": {
    "execution": {
     "iopub.execute_input": "2025-07-13T11:42:40.214972Z",
     "iopub.status.busy": "2025-07-13T11:42:40.213968Z",
     "iopub.status.idle": "2025-07-13T11:42:42.254376Z",
     "shell.execute_reply": "2025-07-13T11:42:42.253366Z",
     "shell.execute_reply.started": "2025-07-13T11:42:40.214972Z"
    }
   },
   "outputs": [
    {
     "data": {
      "text/html": [
       "<div>\n",
       "<style scoped>\n",
       "    .dataframe tbody tr th:only-of-type {\n",
       "        vertical-align: middle;\n",
       "    }\n",
       "\n",
       "    .dataframe tbody tr th {\n",
       "        vertical-align: top;\n",
       "    }\n",
       "\n",
       "    .dataframe thead th {\n",
       "        text-align: right;\n",
       "    }\n",
       "</style>\n",
       "<table border=\"1\" class=\"dataframe\">\n",
       "  <thead>\n",
       "    <tr style=\"text-align: right;\">\n",
       "      <th></th>\n",
       "      <th>passenger_count</th>\n",
       "      <th>trip_distance</th>\n",
       "      <th>payment_type</th>\n",
       "      <th>fare_amount</th>\n",
       "      <th>trip_duration</th>\n",
       "    </tr>\n",
       "  </thead>\n",
       "  <tbody>\n",
       "    <tr>\n",
       "      <th>count</th>\n",
       "      <td>4.408303e+06</td>\n",
       "      <td>4.408303e+06</td>\n",
       "      <td>4.408303e+06</td>\n",
       "      <td>4.408303e+06</td>\n",
       "      <td>4.408303e+06</td>\n",
       "    </tr>\n",
       "    <tr>\n",
       "      <th>mean</th>\n",
       "      <td>1.941316e+00</td>\n",
       "      <td>3.493710e+01</td>\n",
       "      <td>1.392810e+00</td>\n",
       "      <td>1.792412e+01</td>\n",
       "      <td>2.343845e+01</td>\n",
       "    </tr>\n",
       "    <tr>\n",
       "      <th>std</th>\n",
       "      <td>1.347542e+00</td>\n",
       "      <td>1.670516e+04</td>\n",
       "      <td>4.883752e-01</td>\n",
       "      <td>1.335066e+01</td>\n",
       "      <td>1.103244e+03</td>\n",
       "    </tr>\n",
       "    <tr>\n",
       "      <th>min</th>\n",
       "      <td>1.000000e+00</td>\n",
       "      <td>1.000000e-02</td>\n",
       "      <td>1.000000e+00</td>\n",
       "      <td>1.000000e-02</td>\n",
       "      <td>1.666667e-02</td>\n",
       "    </tr>\n",
       "    <tr>\n",
       "      <th>25%</th>\n",
       "      <td>1.000000e+00</td>\n",
       "      <td>1.720000e+00</td>\n",
       "      <td>1.000000e+00</td>\n",
       "      <td>9.500000e+00</td>\n",
       "      <td>1.030000e+01</td>\n",
       "    </tr>\n",
       "    <tr>\n",
       "      <th>50%</th>\n",
       "      <td>1.000000e+00</td>\n",
       "      <td>3.150000e+00</td>\n",
       "      <td>1.000000e+00</td>\n",
       "      <td>1.400000e+01</td>\n",
       "      <td>1.603333e+01</td>\n",
       "    </tr>\n",
       "    <tr>\n",
       "      <th>75%</th>\n",
       "      <td>2.000000e+00</td>\n",
       "      <td>6.000000e+00</td>\n",
       "      <td>2.000000e+00</td>\n",
       "      <td>2.200000e+01</td>\n",
       "      <td>2.348333e+01</td>\n",
       "    </tr>\n",
       "    <tr>\n",
       "      <th>max</th>\n",
       "      <td>5.000000e+00</td>\n",
       "      <td>1.542000e+07</td>\n",
       "      <td>2.000000e+00</td>\n",
       "      <td>4.008000e+03</td>\n",
       "      <td>5.485556e+05</td>\n",
       "    </tr>\n",
       "  </tbody>\n",
       "</table>\n",
       "</div>"
      ],
      "text/plain": [
       "       passenger_count  trip_distance  payment_type   fare_amount  \\\n",
       "count     4.408303e+06   4.408303e+06  4.408303e+06  4.408303e+06   \n",
       "mean      1.941316e+00   3.493710e+01  1.392810e+00  1.792412e+01   \n",
       "std       1.347542e+00   1.670516e+04  4.883752e-01  1.335066e+01   \n",
       "min       1.000000e+00   1.000000e-02  1.000000e+00  1.000000e-02   \n",
       "25%       1.000000e+00   1.720000e+00  1.000000e+00  9.500000e+00   \n",
       "50%       1.000000e+00   3.150000e+00  1.000000e+00  1.400000e+01   \n",
       "75%       2.000000e+00   6.000000e+00  2.000000e+00  2.200000e+01   \n",
       "max       5.000000e+00   1.542000e+07  2.000000e+00  4.008000e+03   \n",
       "\n",
       "       trip_duration  \n",
       "count   4.408303e+06  \n",
       "mean    2.343845e+01  \n",
       "std     1.103244e+03  \n",
       "min     1.666667e-02  \n",
       "25%     1.030000e+01  \n",
       "50%     1.603333e+01  \n",
       "75%     2.348333e+01  \n",
       "max     5.485556e+05  "
      ]
     },
     "execution_count": 16,
     "metadata": {},
     "output_type": "execute_result"
    }
   ],
   "source": [
    "df.describe()"
   ]
  },
  {
   "cell_type": "code",
   "execution_count": 17,
   "id": "6b6b0e84-5242-4ce0-8d70-7d6d28127893",
   "metadata": {
    "execution": {
     "iopub.execute_input": "2025-07-13T11:42:42.258889Z",
     "iopub.status.busy": "2025-07-13T11:42:42.257381Z",
     "iopub.status.idle": "2025-07-13T11:42:42.681767Z",
     "shell.execute_reply": "2025-07-13T11:42:42.679746Z",
     "shell.execute_reply.started": "2025-07-13T11:42:42.257381Z"
    }
   },
   "outputs": [],
   "source": [
    "df.payment_type.replace([1,2],['Card','Cash'],inplace=True)"
   ]
  },
  {
   "cell_type": "code",
   "execution_count": 18,
   "id": "ac09c067-3c74-4fc1-a37b-bc43fd9c6618",
   "metadata": {
    "execution": {
     "iopub.execute_input": "2025-07-13T11:42:42.685768Z",
     "iopub.status.busy": "2025-07-13T11:42:42.684769Z",
     "iopub.status.idle": "2025-07-13T11:42:42.732217Z",
     "shell.execute_reply": "2025-07-13T11:42:42.730763Z",
     "shell.execute_reply.started": "2025-07-13T11:42:42.685768Z"
    }
   },
   "outputs": [
    {
     "data": {
      "text/html": [
       "<div>\n",
       "<style scoped>\n",
       "    .dataframe tbody tr th:only-of-type {\n",
       "        vertical-align: middle;\n",
       "    }\n",
       "\n",
       "    .dataframe tbody tr th {\n",
       "        vertical-align: top;\n",
       "    }\n",
       "\n",
       "    .dataframe thead th {\n",
       "        text-align: right;\n",
       "    }\n",
       "</style>\n",
       "<table border=\"1\" class=\"dataframe\">\n",
       "  <thead>\n",
       "    <tr style=\"text-align: right;\">\n",
       "      <th></th>\n",
       "      <th>passenger_count</th>\n",
       "      <th>trip_distance</th>\n",
       "      <th>payment_type</th>\n",
       "      <th>fare_amount</th>\n",
       "      <th>trip_duration</th>\n",
       "    </tr>\n",
       "  </thead>\n",
       "  <tbody>\n",
       "    <tr>\n",
       "      <th>0</th>\n",
       "      <td>1</td>\n",
       "      <td>1.59</td>\n",
       "      <td>Card</td>\n",
       "      <td>12.0</td>\n",
       "      <td>18.050000</td>\n",
       "    </tr>\n",
       "    <tr>\n",
       "      <th>1</th>\n",
       "      <td>1</td>\n",
       "      <td>3.30</td>\n",
       "      <td>Card</td>\n",
       "      <td>14.5</td>\n",
       "      <td>19.833333</td>\n",
       "    </tr>\n",
       "    <tr>\n",
       "      <th>2</th>\n",
       "      <td>1</td>\n",
       "      <td>1.80</td>\n",
       "      <td>Cash</td>\n",
       "      <td>9.5</td>\n",
       "      <td>10.050000</td>\n",
       "    </tr>\n",
       "    <tr>\n",
       "      <th>3</th>\n",
       "      <td>1</td>\n",
       "      <td>0.50</td>\n",
       "      <td>Cash</td>\n",
       "      <td>3.5</td>\n",
       "      <td>1.866667</td>\n",
       "    </tr>\n",
       "    <tr>\n",
       "      <th>4</th>\n",
       "      <td>1</td>\n",
       "      <td>3.00</td>\n",
       "      <td>Cash</td>\n",
       "      <td>15.0</td>\n",
       "      <td>19.316667</td>\n",
       "    </tr>\n",
       "  </tbody>\n",
       "</table>\n",
       "</div>"
      ],
      "text/plain": [
       "   passenger_count  trip_distance payment_type  fare_amount  trip_duration\n",
       "0                1           1.59         Card         12.0      18.050000\n",
       "1                1           3.30         Card         14.5      19.833333\n",
       "2                1           1.80         Cash          9.5      10.050000\n",
       "3                1           0.50         Cash          3.5       1.866667\n",
       "4                1           3.00         Cash         15.0      19.316667"
      ]
     },
     "execution_count": 18,
     "metadata": {},
     "output_type": "execute_result"
    }
   ],
   "source": [
    "df.head()"
   ]
  },
  {
   "cell_type": "code",
   "execution_count": 19,
   "id": "abcee3c4-10af-4ba9-bf02-79260702b29f",
   "metadata": {
    "execution": {
     "iopub.execute_input": "2025-07-13T11:42:42.735317Z",
     "iopub.status.busy": "2025-07-13T11:42:42.734315Z",
     "iopub.status.idle": "2025-07-13T11:42:48.086117Z",
     "shell.execute_reply": "2025-07-13T11:42:48.085109Z",
     "shell.execute_reply.started": "2025-07-13T11:42:42.735317Z"
    }
   },
   "outputs": [
    {
     "data": {
      "image/png": "[encoded data removed]",
      "text/plain": [
       "<Figure size 600x400 with 1 Axes>"
      ]
     },
     "metadata": {},
     "output_type": "display_data"
    }
   ],
   "source": [
    "plt.figure(figsize=(6, 4))  # width=6, height=4\n",
    "plt.boxplot([df['fare_amount'], df['trip_duration'], df['trip_distance']])\n",
    "plt.xticks([1, 2, 3], ['fare_amount', 'trip_duration', 'trip_distance'])\n",
    "plt.title(\"Boxplot of Fare, Duration and Distance\")\n",
    "plt.ylabel(\"Values\")\n",
    "plt.show()"
   ]
  },
  {
   "cell_type": "code",
   "execution_count": 20,
   "id": "250e12c7-11d8-425f-9239-b95b184d233a",
   "metadata": {
    "execution": {
     "iopub.execute_input": "2025-07-13T11:42:48.088169Z",
     "iopub.status.busy": "2025-07-13T11:42:48.088169Z",
     "iopub.status.idle": "2025-07-13T11:42:50.104890Z",
     "shell.execute_reply": "2025-07-13T11:42:50.101792Z",
     "shell.execute_reply.started": "2025-07-13T11:42:48.088169Z"
    }
   },
   "outputs": [],
   "source": [
    "for col in ['fare_amount', 'trip_duration', 'trip_distance']:\n",
    "    Q1 = df[col].quantile(0.25)\n",
    "    Q3 = df[col].quantile(0.75)\n",
    "    IQR = Q3 - Q1\n",
    "    lower_bound = Q1 - 1.5*IQR\n",
    "    upper_bound = Q1 + 1.5*IQR\n",
    "    df = df[(df[col]>=lower_bound)&(df[col]<=upper_bound)]"
   ]
  },
  {
   "cell_type": "code",
   "execution_count": 21,
   "id": "c689a246-151a-438c-9b5a-a2b8812be0a2",
   "metadata": {
    "execution": {
     "iopub.execute_input": "2025-07-13T11:42:50.107870Z",
     "iopub.status.busy": "2025-07-13T11:42:50.106879Z",
     "iopub.status.idle": "2025-07-13T11:42:50.121997Z",
     "shell.execute_reply": "2025-07-13T11:42:50.120856Z",
     "shell.execute_reply.started": "2025-07-13T11:42:50.107870Z"
    }
   },
   "outputs": [
    {
     "data": {
      "text/plain": [
       "(2850224, 5)"
      ]
     },
     "execution_count": 21,
     "metadata": {},
     "output_type": "execute_result"
    }
   ],
   "source": [
    "df.shape"
   ]
  },
  {
   "cell_type": "code",
   "execution_count": 22,
   "id": "63478f57-0471-42af-b064-00fcc08579d5",
   "metadata": {
    "execution": {
     "iopub.execute_input": "2025-07-13T11:42:50.124270Z",
     "iopub.status.busy": "2025-07-13T11:42:50.124270Z",
     "iopub.status.idle": "2025-07-13T11:42:54.550087Z",
     "shell.execute_reply": "2025-07-13T11:42:54.549078Z",
     "shell.execute_reply.started": "2025-07-13T11:42:50.124270Z"
    }
   },
   "outputs": [
    {
     "data": {
      "image/png": "[encoded data removed]",
      "text/plain": [
       "<Figure size 1200x500 with 2 Axes>"
      ]
     },
     "metadata": {},
     "output_type": "display_data"
    }
   ],
   "source": [
    "plt.figure(figsize=(12, 5))\n",
    "plt.subplot(1, 2, 1)\n",
    "\n",
    "plt.hist(df[df['payment_type'] == 'Card']['fare_amount'],\n",
    "         histtype='barstacked', bins=20, edgecolor='k', color='skyblue', label='Card')\n",
    "\n",
    "plt.hist(df[df['payment_type'] == 'Cash']['fare_amount'],\n",
    "         histtype='barstacked', bins=20, edgecolor='k', color='blue', label='Cash')\n",
    "\n",
    "plt.legend()\n",
    "plt.title(\"Fare Amount by Payment Type\")\n",
    "plt.xlabel(\"Fare Amount\")\n",
    "plt.ylabel(\"Frequency\")\n",
    "\n",
    "plt.subplot(1, 2, 2)\n",
    "\n",
    "plt.hist(df[df['payment_type'] == 'Card']['trip_distance'],\n",
    "         histtype='barstacked', bins=20, edgecolor='k', color='skyblue', label='Card')\n",
    "\n",
    "plt.hist(df[df['payment_type'] == 'Cash']['trip_distance'],\n",
    "         histtype='barstacked', bins=20, edgecolor='k', color='blue', label='Cash')\n",
    "\n",
    "plt.legend()\n",
    "plt.title(\"Trip Distribution by Payment Type\")\n",
    "plt.xlabel(\"Trip Distance\")\n",
    "plt.ylabel(\"Frequency\")\n",
    "plt.show()\n"
   ]
  },
  {
   "cell_type": "code",
   "execution_count": 23,
   "id": "0ea9ae06-99a4-4176-92b6-f6e1c1e8bf47",
   "metadata": {
    "execution": {
     "iopub.execute_input": "2025-07-13T11:42:54.552151Z",
     "iopub.status.busy": "2025-07-13T11:42:54.552151Z",
     "iopub.status.idle": "2025-07-13T11:42:55.238335Z",
     "shell.execute_reply": "2025-07-13T11:42:55.236221Z",
     "shell.execute_reply.started": "2025-07-13T11:42:54.552151Z"
    }
   },
   "outputs": [
    {
     "data": {
      "text/html": [
       "<div>\n",
       "<style scoped>\n",
       "    .dataframe tbody tr th:only-of-type {\n",
       "        vertical-align: middle;\n",
       "    }\n",
       "\n",
       "    .dataframe tbody tr th {\n",
       "        vertical-align: top;\n",
       "    }\n",
       "\n",
       "    .dataframe thead tr th {\n",
       "        text-align: left;\n",
       "    }\n",
       "\n",
       "    .dataframe thead tr:last-of-type th {\n",
       "        text-align: right;\n",
       "    }\n",
       "</style>\n",
       "<table border=\"1\" class=\"dataframe\">\n",
       "  <thead>\n",
       "    <tr>\n",
       "      <th></th>\n",
       "      <th colspan=\"2\" halign=\"left\">fare_amount</th>\n",
       "      <th colspan=\"2\" halign=\"left\">trip_distance</th>\n",
       "    </tr>\n",
       "    <tr>\n",
       "      <th></th>\n",
       "      <th>mean</th>\n",
       "      <th>std</th>\n",
       "      <th>mean</th>\n",
       "      <th>std</th>\n",
       "    </tr>\n",
       "    <tr>\n",
       "      <th>payment_type</th>\n",
       "      <th></th>\n",
       "      <th></th>\n",
       "      <th></th>\n",
       "      <th></th>\n",
       "    </tr>\n",
       "  </thead>\n",
       "  <tbody>\n",
       "    <tr>\n",
       "      <th>Card</th>\n",
       "      <td>11.075623</td>\n",
       "      <td>3.814098</td>\n",
       "      <td>2.393233</td>\n",
       "      <td>1.230096</td>\n",
       "    </tr>\n",
       "    <tr>\n",
       "      <th>Cash</th>\n",
       "      <td>10.399093</td>\n",
       "      <td>3.853505</td>\n",
       "      <td>2.183791</td>\n",
       "      <td>1.217508</td>\n",
       "    </tr>\n",
       "  </tbody>\n",
       "</table>\n",
       "</div>"
      ],
      "text/plain": [
       "             fare_amount           trip_distance          \n",
       "                    mean       std          mean       std\n",
       "payment_type                                              \n",
       "Card           11.075623  3.814098      2.393233  1.230096\n",
       "Cash           10.399093  3.853505      2.183791  1.217508"
      ]
     },
     "execution_count": 23,
     "metadata": {},
     "output_type": "execute_result"
    }
   ],
   "source": [
    "df.groupby('payment_type').agg({'fare_amount':['mean','std'],'trip_distance':['mean','std']})"
   ]
  },
  {
   "cell_type": "code",
   "execution_count": 24,
   "id": "25d6da0c-52f8-48c6-b0f3-e4eec7a511b8",
   "metadata": {
    "execution": {
     "iopub.execute_input": "2025-07-13T11:42:55.240300Z",
     "iopub.status.busy": "2025-07-13T11:42:55.239297Z",
     "iopub.status.idle": "2025-07-13T11:42:56.207774Z",
     "shell.execute_reply": "2025-07-13T11:42:56.206764Z",
     "shell.execute_reply.started": "2025-07-13T11:42:55.239297Z"
    }
   },
   "outputs": [
    {
     "data": {
      "image/png": "[encoded data removed]",
      "text/plain": [
       "<Figure size 640x480 with 1 Axes>"
      ]
     },
     "metadata": {},
     "output_type": "display_data"
    }
   ],
   "source": [
    "plt.title('Prefrenece of Payment Type')\n",
    "plt.pie(df['payment_type'].value_counts(normalize=True),labels=df['payment_type'].value_counts().index,\n",
    "       autopct='%1.1f%%',startangle=90)\n",
    "plt.show()"
   ]
  },
  {
   "cell_type": "code",
   "execution_count": 26,
   "id": "d3e0e844-cb55-4d2b-8d60-d613c420752a",
   "metadata": {
    "execution": {
     "iopub.execute_input": "2025-07-13T11:44:29.939936Z",
     "iopub.status.busy": "2025-07-13T11:44:29.939936Z",
     "iopub.status.idle": "2025-07-13T11:44:30.668988Z",
     "shell.execute_reply": "2025-07-13T11:44:30.666960Z",
     "shell.execute_reply.started": "2025-07-13T11:44:29.939936Z"
    }
   },
   "outputs": [
    {
     "data": {
      "text/html": [
       "<div>\n",
       "<style scoped>\n",
       "    .dataframe tbody tr th:only-of-type {\n",
       "        vertical-align: middle;\n",
       "    }\n",
       "\n",
       "    .dataframe tbody tr th {\n",
       "        vertical-align: top;\n",
       "    }\n",
       "\n",
       "    .dataframe thead th {\n",
       "        text-align: right;\n",
       "    }\n",
       "</style>\n",
       "<table border=\"1\" class=\"dataframe\">\n",
       "  <thead>\n",
       "    <tr style=\"text-align: right;\">\n",
       "      <th></th>\n",
       "      <th>payment_type</th>\n",
       "      <th>passenger_count</th>\n",
       "      <th>count</th>\n",
       "    </tr>\n",
       "  </thead>\n",
       "  <tbody>\n",
       "    <tr>\n",
       "      <th>0</th>\n",
       "      <td>Card</td>\n",
       "      <td>1</td>\n",
       "      <td>801859</td>\n",
       "    </tr>\n",
       "    <tr>\n",
       "      <th>1</th>\n",
       "      <td>Card</td>\n",
       "      <td>2</td>\n",
       "      <td>358113</td>\n",
       "    </tr>\n",
       "    <tr>\n",
       "      <th>2</th>\n",
       "      <td>Card</td>\n",
       "      <td>3</td>\n",
       "      <td>162713</td>\n",
       "    </tr>\n",
       "    <tr>\n",
       "      <th>3</th>\n",
       "      <td>Card</td>\n",
       "      <td>4</td>\n",
       "      <td>86846</td>\n",
       "    </tr>\n",
       "    <tr>\n",
       "      <th>4</th>\n",
       "      <td>Card</td>\n",
       "      <td>5</td>\n",
       "      <td>230064</td>\n",
       "    </tr>\n",
       "    <tr>\n",
       "      <th>5</th>\n",
       "      <td>Cash</td>\n",
       "      <td>1</td>\n",
       "      <td>605101</td>\n",
       "    </tr>\n",
       "    <tr>\n",
       "      <th>6</th>\n",
       "      <td>Cash</td>\n",
       "      <td>2</td>\n",
       "      <td>259744</td>\n",
       "    </tr>\n",
       "    <tr>\n",
       "      <th>7</th>\n",
       "      <td>Cash</td>\n",
       "      <td>3</td>\n",
       "      <td>119565</td>\n",
       "    </tr>\n",
       "    <tr>\n",
       "      <th>8</th>\n",
       "      <td>Cash</td>\n",
       "      <td>4</td>\n",
       "      <td>70437</td>\n",
       "    </tr>\n",
       "    <tr>\n",
       "      <th>9</th>\n",
       "      <td>Cash</td>\n",
       "      <td>5</td>\n",
       "      <td>155782</td>\n",
       "    </tr>\n",
       "  </tbody>\n",
       "</table>\n",
       "</div>"
      ],
      "text/plain": [
       "  payment_type  passenger_count   count\n",
       "0         Card                1  801859\n",
       "1         Card                2  358113\n",
       "2         Card                3  162713\n",
       "3         Card                4   86846\n",
       "4         Card                5  230064\n",
       "5         Cash                1  605101\n",
       "6         Cash                2  259744\n",
       "7         Cash                3  119565\n",
       "8         Cash                4   70437\n",
       "9         Cash                5  155782"
      ]
     },
     "execution_count": 26,
     "metadata": {},
     "output_type": "execute_result"
    }
   ],
   "source": [
    "passenger = df.groupby(['payment_type', 'passenger_count']).size().reset_index(name='count')\n",
    "passenger\n"
   ]
  },
  {
   "cell_type": "code",
   "execution_count": 28,
   "id": "651fcc3f-22b2-4049-88b4-6d0f01675662",
   "metadata": {
    "execution": {
     "iopub.execute_input": "2025-07-13T11:46:43.960981Z",
     "iopub.status.busy": "2025-07-13T11:46:43.960981Z",
     "iopub.status.idle": "2025-07-13T11:46:43.974004Z",
     "shell.execute_reply": "2025-07-13T11:46:43.971818Z",
     "shell.execute_reply.started": "2025-07-13T11:46:43.960981Z"
    }
   },
   "outputs": [
    {
     "data": {
      "text/html": [
       "<div>\n",
       "<style scoped>\n",
       "    .dataframe tbody tr th:only-of-type {\n",
       "        vertical-align: middle;\n",
       "    }\n",
       "\n",
       "    .dataframe tbody tr th {\n",
       "        vertical-align: top;\n",
       "    }\n",
       "\n",
       "    .dataframe thead th {\n",
       "        text-align: right;\n",
       "    }\n",
       "</style>\n",
       "<table border=\"1\" class=\"dataframe\">\n",
       "  <thead>\n",
       "    <tr style=\"text-align: right;\">\n",
       "      <th></th>\n",
       "      <th>payment_type</th>\n",
       "      <th>passenger_count</th>\n",
       "      <th>count</th>\n",
       "      <th>prec</th>\n",
       "    </tr>\n",
       "  </thead>\n",
       "  <tbody>\n",
       "    <tr>\n",
       "      <th>0</th>\n",
       "      <td>Card</td>\n",
       "      <td>1</td>\n",
       "      <td>801859</td>\n",
       "      <td>28.133192</td>\n",
       "    </tr>\n",
       "    <tr>\n",
       "      <th>1</th>\n",
       "      <td>Card</td>\n",
       "      <td>2</td>\n",
       "      <td>358113</td>\n",
       "      <td>12.564381</td>\n",
       "    </tr>\n",
       "    <tr>\n",
       "      <th>2</th>\n",
       "      <td>Card</td>\n",
       "      <td>3</td>\n",
       "      <td>162713</td>\n",
       "      <td>5.708779</td>\n",
       "    </tr>\n",
       "    <tr>\n",
       "      <th>3</th>\n",
       "      <td>Card</td>\n",
       "      <td>4</td>\n",
       "      <td>86846</td>\n",
       "      <td>3.046989</td>\n",
       "    </tr>\n",
       "    <tr>\n",
       "      <th>4</th>\n",
       "      <td>Card</td>\n",
       "      <td>5</td>\n",
       "      <td>230064</td>\n",
       "      <td>8.071787</td>\n",
       "    </tr>\n",
       "    <tr>\n",
       "      <th>5</th>\n",
       "      <td>Cash</td>\n",
       "      <td>1</td>\n",
       "      <td>605101</td>\n",
       "      <td>21.229945</td>\n",
       "    </tr>\n",
       "    <tr>\n",
       "      <th>6</th>\n",
       "      <td>Cash</td>\n",
       "      <td>2</td>\n",
       "      <td>259744</td>\n",
       "      <td>9.113108</td>\n",
       "    </tr>\n",
       "    <tr>\n",
       "      <th>7</th>\n",
       "      <td>Cash</td>\n",
       "      <td>3</td>\n",
       "      <td>119565</td>\n",
       "      <td>4.194933</td>\n",
       "    </tr>\n",
       "    <tr>\n",
       "      <th>8</th>\n",
       "      <td>Cash</td>\n",
       "      <td>4</td>\n",
       "      <td>70437</td>\n",
       "      <td>2.471279</td>\n",
       "    </tr>\n",
       "    <tr>\n",
       "      <th>9</th>\n",
       "      <td>Cash</td>\n",
       "      <td>5</td>\n",
       "      <td>155782</td>\n",
       "      <td>5.465606</td>\n",
       "    </tr>\n",
       "  </tbody>\n",
       "</table>\n",
       "</div>"
      ],
      "text/plain": [
       "  payment_type  passenger_count   count       prec\n",
       "0         Card                1  801859  28.133192\n",
       "1         Card                2  358113  12.564381\n",
       "2         Card                3  162713   5.708779\n",
       "3         Card                4   86846   3.046989\n",
       "4         Card                5  230064   8.071787\n",
       "5         Cash                1  605101  21.229945\n",
       "6         Cash                2  259744   9.113108\n",
       "7         Cash                3  119565   4.194933\n",
       "8         Cash                4   70437   2.471279\n",
       "9         Cash                5  155782   5.465606"
      ]
     },
     "execution_count": 28,
     "metadata": {},
     "output_type": "execute_result"
    }
   ],
   "source": [
    "passenger['prec'] = (passenger['count'] / passenger['count'].sum())*100\n",
    "passenger"
   ]
  },
  {
   "cell_type": "code",
   "execution_count": 32,
   "id": "6a9de0c5-f0a2-4f7e-9a66-ea044b29b7f5",
   "metadata": {
    "execution": {
     "iopub.execute_input": "2025-07-13T11:53:38.286844Z",
     "iopub.status.busy": "2025-07-13T11:53:38.285884Z",
     "iopub.status.idle": "2025-07-13T11:53:38.295970Z",
     "shell.execute_reply": "2025-07-13T11:53:38.294947Z",
     "shell.execute_reply.started": "2025-07-13T11:53:38.286844Z"
    }
   },
   "outputs": [],
   "source": [
    "tempDF = pd.DataFrame(columns=['payment_type', 1, 2, 3, 4, 5])\n",
    "tempDF['payment_type'] = ['Card', 'Cash']\n",
    "tempDF.iloc[0, 1:] = passenger.iloc[0:5, -1]"
   ]
  },
  {
   "cell_type": "code",
   "execution_count": 34,
   "id": "e0eaea6e-8d3c-42af-8b79-142000097ae3",
   "metadata": {
    "execution": {
     "iopub.execute_input": "2025-07-13T11:54:51.771672Z",
     "iopub.status.busy": "2025-07-13T11:54:51.771672Z",
     "iopub.status.idle": "2025-07-13T11:54:51.778547Z",
     "shell.execute_reply": "2025-07-13T11:54:51.777534Z",
     "shell.execute_reply.started": "2025-07-13T11:54:51.771672Z"
    }
   },
   "outputs": [],
   "source": [
    "tempDF.iloc[1, 1:] = passenger.iloc[5:, -1]"
   ]
  },
  {
   "cell_type": "code",
   "execution_count": 35,
   "id": "51a3113b-3516-47a8-b4c5-8944a2de3101",
   "metadata": {
    "execution": {
     "iopub.execute_input": "2025-07-13T11:54:57.628488Z",
     "iopub.status.busy": "2025-07-13T11:54:57.628488Z",
     "iopub.status.idle": "2025-07-13T11:54:57.643124Z",
     "shell.execute_reply": "2025-07-13T11:54:57.642118Z",
     "shell.execute_reply.started": "2025-07-13T11:54:57.628488Z"
    }
   },
   "outputs": [
    {
     "data": {
      "text/html": [
       "<div>\n",
       "<style scoped>\n",
       "    .dataframe tbody tr th:only-of-type {\n",
       "        vertical-align: middle;\n",
       "    }\n",
       "\n",
       "    .dataframe tbody tr th {\n",
       "        vertical-align: top;\n",
       "    }\n",
       "\n",
       "    .dataframe thead th {\n",
       "        text-align: right;\n",
       "    }\n",
       "</style>\n",
       "<table border=\"1\" class=\"dataframe\">\n",
       "  <thead>\n",
       "    <tr style=\"text-align: right;\">\n",
       "      <th></th>\n",
       "      <th>payment_type</th>\n",
       "      <th>1</th>\n",
       "      <th>2</th>\n",
       "      <th>3</th>\n",
       "      <th>4</th>\n",
       "      <th>5</th>\n",
       "    </tr>\n",
       "  </thead>\n",
       "  <tbody>\n",
       "    <tr>\n",
       "      <th>0</th>\n",
       "      <td>Card</td>\n",
       "      <td>28.133192</td>\n",
       "      <td>12.564381</td>\n",
       "      <td>5.708779</td>\n",
       "      <td>3.046989</td>\n",
       "      <td>8.071787</td>\n",
       "    </tr>\n",
       "    <tr>\n",
       "      <th>1</th>\n",
       "      <td>Cash</td>\n",
       "      <td>21.229945</td>\n",
       "      <td>9.113108</td>\n",
       "      <td>4.194933</td>\n",
       "      <td>2.471279</td>\n",
       "      <td>5.465606</td>\n",
       "    </tr>\n",
       "  </tbody>\n",
       "</table>\n",
       "</div>"
      ],
      "text/plain": [
       "  payment_type          1          2         3         4         5\n",
       "0         Card  28.133192  12.564381  5.708779  3.046989  8.071787\n",
       "1         Cash  21.229945   9.113108  4.194933  2.471279  5.465606"
      ]
     },
     "execution_count": 35,
     "metadata": {},
     "output_type": "execute_result"
    }
   ],
   "source": [
    "tempDF"
   ]
  },
  {
   "cell_type": "code",
   "execution_count": 49,
   "id": "dc83eb81-9e22-4ac0-8905-8231b6798ed2",
   "metadata": {
    "execution": {
     "iopub.execute_input": "2025-07-13T12:12:56.720363Z",
     "iopub.status.busy": "2025-07-13T12:12:56.719355Z",
     "iopub.status.idle": "2025-07-13T12:12:57.336731Z",
     "shell.execute_reply": "2025-07-13T12:12:57.334700Z",
     "shell.execute_reply.started": "2025-07-13T12:12:56.720363Z"
    }
   },
   "outputs": [
    {
     "data": {
      "image/png": "[encoded data removed]",
      "text/plain": [
       "<Figure size 1000x400 with 1 Axes>"
      ]
     },
     "metadata": {},
     "output_type": "display_data"
    }
   ],
   "source": [
    "ax = tempDF.plot(\n",
    "    x='payment_type',\n",
    "    kind='barh',\n",
    "    stacked=True,\n",
    "    color=['royalblue', 'deepskyblue', 'cornflowerblue', 'dodgerblue', 'skyblue'],\n",
    "    edgecolor='midnightblue',\n",
    "    figsize=(10, 4)\n",
    ")\n",
    "\n",
    "for p in ax.patches:\n",
    "    width = p.get_width()\n",
    "    height = p.get_height()\n",
    "    x, y = p.get_xy()\n",
    "    ax.text(\n",
    "        x+width/2,\n",
    "        y+height/2,\n",
    "        '{:.0f}%'.format(width),\n",
    "        horizontalalignment='center',\n",
    "        verticalalignment='center',\n",
    "    )"
   ]
  },
  {
   "cell_type": "code",
   "execution_count": 51,
   "id": "bf257520-0ee1-458c-ae83-de98e69b09b6",
   "metadata": {
    "execution": {
     "iopub.execute_input": "2025-07-13T12:18:57.080735Z",
     "iopub.status.busy": "2025-07-13T12:18:57.080735Z",
     "iopub.status.idle": "2025-07-13T12:19:15.311444Z",
     "shell.execute_reply": "2025-07-13T12:19:15.308831Z",
     "shell.execute_reply.started": "2025-07-13T12:18:57.080735Z"
    }
   },
   "outputs": [
    {
     "data": {
      "image/png": "[encoded data removed]",
      "text/plain": [
       "<Figure size 640x480 with 1 Axes>"
      ]
     },
     "metadata": {},
     "output_type": "display_data"
    }
   ],
   "source": [
    "qqplot(df['fare_amount'], line='s')\n",
    "plt.show()"
   ]
  },
  {
   "cell_type": "markdown",
   "id": "6b97943c-256e-4eec-8cfb-9436abcc0011",
   "metadata": {},
   "source": [
    "### Testing Wheter there is difference in Customer base on the Payment or not ?\n",
    "**Ho** : There is no diff in customer based on the Payment method.<br>\n",
    "**H1** : There is diff in customer based on the Payment method.\n"
   ]
  },
  {
   "cell_type": "code",
   "execution_count": 55,
   "id": "44bfe55e-d986-41d3-8d5d-2b6a9cf7dec4",
   "metadata": {
    "execution": {
     "iopub.execute_input": "2025-07-13T12:33:21.602868Z",
     "iopub.status.busy": "2025-07-13T12:33:21.601836Z",
     "iopub.status.idle": "2025-07-13T12:33:22.918513Z",
     "shell.execute_reply": "2025-07-13T12:33:22.917388Z",
     "shell.execute_reply.started": "2025-07-13T12:33:21.602868Z"
    }
   },
   "outputs": [],
   "source": [
    "card = df[df['payment_type']=='Card']['fare_amount']\n",
    "cash = df[df['payment_type']=='Cash']['fare_amount']"
   ]
  },
  {
   "cell_type": "code",
   "execution_count": 56,
   "id": "51fce89c-dbd7-40f6-8d5b-a0792f2d476f",
   "metadata": {
    "execution": {
     "iopub.execute_input": "2025-07-13T12:35:18.559286Z",
     "iopub.status.busy": "2025-07-13T12:35:18.559286Z",
     "iopub.status.idle": "2025-07-13T12:35:18.668797Z",
     "shell.execute_reply": "2025-07-13T12:35:18.666268Z",
     "shell.execute_reply.started": "2025-07-13T12:35:18.559286Z"
    }
   },
   "outputs": [
    {
     "name": "stdout",
     "output_type": "stream",
     "text": [
      "T Statistics: 147.14651802506475 P Value: 0.0\n"
     ]
    }
   ],
   "source": [
    "t_stats, p_value = st.ttest_ind(a=card, b=cash, equal_var=False)\n",
    "print('T Statistics:', t_stats, 'P Value:', p_value)"
   ]
  },
  {
   "cell_type": "markdown",
   "id": "83dca1fb-8c02-41e7-b235-409434c2950f",
   "metadata": {},
   "source": [
    "### We observe that P value from T-Test is less than **0.05** which state that there is significant diff btw the Passengers based on the **Payment Type** "
   ]
  },
  {
   "cell_type": "markdown",
   "id": "f96b93de-25da-4a5d-a531-579ce0cae54b",
   "metadata": {},
   "source": [
    "#### **Conclusion : Taxi Drivers should try for Card Payment for more profit**"
   ]
  }
 ],
 "metadata": {
  "kernelspec": {
   "display_name": "Python 3 (ipykernel)",
   "language": "python",
   "name": "python3"
  },
  "language_info": {
   "codemirror_mode": {
    "name": "ipython",
    "version": 3
   },
   "file_extension": ".py",
   "mimetype": "text/x-python",
   "name": "python",
   "nbconvert_exporter": "python",
   "pygments_lexer": "ipython3",
   "version": "3.12.7"
  },
  "widgets": {
   "application/vnd.jupyter.widget-state+json": {
    "state": {},
    "version_major": 2,
    "version_minor": 0
   }
  }
 },
 "nbformat": 4,
 "nbformat_minor": 5
}
